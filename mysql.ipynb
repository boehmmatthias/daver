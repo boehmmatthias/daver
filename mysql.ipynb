{
 "cells": [
  {
   "cell_type": "markdown",
   "metadata": {},
   "source": [
    "## MySQL code"
   ]
  },
  {
   "cell_type": "code",
   "execution_count": 21,
   "metadata": {},
   "outputs": [],
   "source": [
    "from src.mysql import get_all_table_names, get_table_definition, get_knowledge_base_schema_for_table, query_random_rows\n",
    "\n",
    "db_connection_params = {\n",
    "    'host': 'localhost',\n",
    "    'port': 3306,\n",
    "    'user': 'daver',\n",
    "    'password': 'pizzatime',\n",
    "    'database': 'daver_db'\n",
    "}"
   ]
  },
  {
   "cell_type": "markdown",
   "metadata": {},
   "source": [
    "## Ollama Code"
   ]
  },
  {
   "cell_type": "code",
   "execution_count": 119,
   "metadata": {},
   "outputs": [],
   "source": [
    "from ollama import ChatResponse\n",
    "from ollama import Client\n",
    "\n",
    "\n",
    "client = Client(\n",
    "    # host='http://localhost:11434',\n",
    "    host='http://192.168.178.38:11434',\n",
    "    headers={'Content-Type': 'application/json'},\n",
    ")\n",
    "model = \"deepseek-r1:8b\"\n",
    "options = {\n",
    "    # \"temperature\": 0.2\n",
    "    }"
   ]
  },
  {
   "cell_type": "code",
   "execution_count": 120,
   "metadata": {},
   "outputs": [],
   "source": [
    "schema = {\n",
    "  \"type\": \"object\",\n",
    "  \"properties\": {\n",
    "    \"name\":    {\"type\": \"string\"},\n",
    "    \"context\": {\"type\": \"string\"},\n",
    "    \"fields\": {\n",
    "      \"type\": \"array\",\n",
    "      \"items\": {\n",
    "        \"type\":  \"object\",\n",
    "        \"properties\": {\n",
    "          \"name\":     {\"type\": \"string\"},\n",
    "          \"type\":     {\"type\": \"string\"},\n",
    "          \"nullable\": {\"type\": \"string\"},\n",
    "          \"key\":      {\"type\": \"string\"},\n",
    "          \"default\":  {\"type\": [\"string\", \"null\"]},\n",
    "          \"extra\":    {\"type\": \"string\"},\n",
    "          \"context\":  {\"type\": \"string\"}\n",
    "        },\n",
    "        \"required\": [\"name\", \"context\",]\n",
    "      }\n",
    "    }\n",
    "  },\n",
    "  \"required\": [\"name\", \"context\", \"fields\"]\n",
    "}"
   ]
  },
  {
   "cell_type": "code",
   "execution_count": 121,
   "metadata": {},
   "outputs": [],
   "source": [
    "demo_json = {\n",
    "  \"name\": \"demo\",\n",
    "  \"context\": \"A one-column demo table.\",\n",
    "  \"fields\": [\n",
    "    {\n",
    "      \"name\": \"id\",\n",
    "      \"type\": \"int\",\n",
    "      \"nullable\": \"NO\",\n",
    "      \"key\": \"PRI\",\n",
    "      \"default\": None,\n",
    "      \"extra\": \"auto_increment\",\n",
    "      \"context\": \"Primary identifier; monotonically increasing. Often only one digit\"\n",
    "    }\n",
    "  ]\n",
    "}"
   ]
  },
  {
   "cell_type": "code",
   "execution_count": 122,
   "metadata": {},
   "outputs": [],
   "source": [
    "system_message = {\n",
    "            \"role\": \"system\",\n",
    "            \"content\": (\n",
    "                \"You are a data analyst.\\n\"\n",
    "                \"Your ONLY task is to write a concise, human-readable knowledge base\"\n",
    "                \"about the table represented by the columns and rows that you are shown.\\n\"\n",
    "                \"You will be given a sample of rows from the table to extract insights from. Don't make any comment about the number of rows you were given.\\n\"\n",
    "                \"When making numerical statements, consider this to be a sample of the entire table, therefore any statements you make can only be relative to the sample.\\n\"\n",
    "                \"Your output should be readable as knowledge base by another LLM.\"\n",
    "                \"• Never output code, markdown fences, or JSON.\\n\"\n",
    "                \"• Never describe the JSON format itself — only the database facts.\\n\"\n",
    "                \"• Some columns might be in Binary Format, or other formats that are not human readable. If you can distinguish the format, describe it, otherwise ignore it.\\n\"\n",
    "                \"If you are tempted to write code, STOP.\\n\"\n",
    "                \"Return ONLY a JSON object that matches the given schema. Fill in you knowledge base about the table in the top level 'context' field.\\n\"\n",
    "                \"Fill in the 'context' field in each of the 'fields' objects with your knowledge base about the column.\\n\"\n",
    "                \"Do not leave the 'context' field empty!\"\n",
    "            )\n",
    "        },"
   ]
  },
  {
   "cell_type": "code",
   "execution_count": 123,
   "metadata": {},
   "outputs": [],
   "source": [
    "reprimand = {\n",
    "        \"role\": \"system\",\n",
    "        \"content\": (\n",
    "            \"⚠️  Your previous reply violated the formatting rules.\\n\"\n",
    "            \"You MUST follow these constraints:\\n\"\n",
    "            \"• Do not leave the 'context' field empty. You must fill it with your knowledge base about the table and the columns.\\n\"\n",
    "        )\n",
    "    }"
   ]
  },
  {
   "cell_type": "code",
   "execution_count": null,
   "metadata": {},
   "outputs": [],
   "source": [
    "example_A_user = {\n",
    "  \"name\": \"book_inventory\",\n",
    "  \"context\": \"\",\n",
    "  \"fields\": [\n",
    "    {\"name\": \"isbn\",       \"type\": \"char(13)\",     \"nullable\": \"NO\",  \"key\": \"PRI\", \"default\": null, \"extra\": \"\",            \"context\": \"\"},\n",
    "    {\"name\": \"title\",      \"type\": \"varchar(255)\", \"nullable\": \"NO\",  \"key\": \"\",    \"default\": null, \"extra\": \"\",            \"context\": \"\"},\n",
    "    {\"name\": \"author\",     \"type\": \"varchar(255)\", \"nullable\": \"YES\", \"key\": \"\",    \"default\": null, \"extra\": \"\",            \"context\": \"\"},\n",
    "    {\"name\": \"pub_year\",   \"type\": \"year\",         \"nullable\": \"YES\", \"key\": \"\",    \"default\": null, \"extra\": \"\",            \"context\": \"\"},\n",
    "    {\"name\": \"in_stock\",   \"type\": \"int\",          \"nullable\": \"NO\",  \"key\": \"\",    \"default\": 0,    \"extra\": \"\",            \"context\": \"\"}\n",
    "  ]\n",
    "}\n",
    "example_A_assistant = {\n",
    "  \"name\": \"book_inventory\",\n",
    "  \"context\": \"One row per title kept in the warehouse. Primary key is the 13-digit ISBN; titles are unique.\",\n",
    "  \"fields\": [\n",
    "    {\"name\": \"isbn\",       \"type\": \"char(13)\",     \"nullable\": \"NO\",  \"key\": \"PRI\", \"default\": null, \"extra\": \"\", \"context\": \"Global book identifier used as the primary key.\"},\n",
    "    {\"name\": \"title\",      \"type\": \"varchar(255)\", \"nullable\": \"NO\",  \"key\": \"\",    \"default\": null, \"extra\": \"\", \"context\": \"Human-readable title; duplicates possible across editions.\"},\n",
    "    {\"name\": \"author\",     \"type\": \"varchar(255)\", \"nullable\": \"YES\", \"key\": \"\",    \"default\": null, \"extra\": \"\", \"context\": \"Main author(s); blank for works in the public domain.\"},\n",
    "    {\"name\": \"pub_year\",   \"type\": \"year\",         \"nullable\": \"YES\", \"key\": \"\",    \"default\": null, \"extra\": \"\", \"context\": \"Four-digit publication year; helps with edition matching.\"},\n",
    "    {\"name\": \"in_stock\",   \"type\": \"int\",          \"nullable\": \"NO\",  \"key\": \"\",    \"default\": 0,    \"extra\": \"\", \"context\": \"Physical copies currently available for sale.\"}\n",
    "  ]\n",
    "}\n",
    "\n",
    "example_B_user = {\n",
    "  \"name\": \"iot_sensor_data\",\n",
    "  \"context\": \"\",\n",
    "  \"fields\": [\n",
    "    {\"name\": \"sensor_id\",   \"type\": \"varchar(40)\", \"nullable\": \"NO\",  \"key\": \"PRI\", \"default\": null, \"extra\": \"\", \"context\": \"\"},\n",
    "    {\"name\": \"ts_utc\",      \"type\": \"timestamp\",   \"nullable\": \"NO\",  \"key\": \"PRI\", \"default\": null, \"extra\": \"\", \"context\": \"\"},\n",
    "    {\"name\": \"temperature\", \"type\": \"float\",       \"nullable\": \"YES\", \"key\": \"\",    \"default\": null, \"extra\": \"\", \"context\": \"\"},\n",
    "    {\"name\": \"humidity\",    \"type\": \"float\",       \"nullable\": \"YES\", \"key\": \"\",    \"default\": null, \"extra\": \"\", \"context\": \"\"},\n",
    "    {\"name\": \"battery_mv\",  \"type\": \"smallint\",    \"nullable\": \"YES\", \"key\": \"\",    \"default\": null, \"extra\": \"\", \"context\": \"\"}\n",
    "  ]\n",
    "}\n",
    "example_B_assistant = {\n",
    "  \"name\": \"iot_sensor_data\",\n",
    "  \"context\": \"Time-series readings streamed from edge devices; composite primary key (sensor_id, ts_utc).\",\n",
    "  \"fields\": [\n",
    "    {\"name\": \"sensor_id\",   \"type\": \"varchar(40)\", \"nullable\": \"NO\",  \"key\": \"PRI\", \"default\": null, \"extra\": \"\", \"context\": \"UUID assigned to each deployed sensor.\"},\n",
    "    {\"name\": \"ts_utc\",      \"type\": \"timestamp\",   \"nullable\": \"NO\",  \"key\": \"PRI\", \"default\": null, \"extra\": \"\", \"context\": \"ISO timestamp in UTC when the packet was recorded.\"},\n",
    "    {\"name\": \"temperature\", \"type\": \"float\",       \"nullable\": \"YES\", \"key\": \"\",    \"default\": null, \"extra\": \"\", \"context\": \"Degrees Celsius; may be NULL if probe is faulty.\"},\n",
    "    {\"name\": \"humidity\",    \"type\": \"float\",       \"nullable\": \"YES\", \"key\": \"\",    \"default\": null, \"extra\": \"\", \"context\": \"Relative humidity percentage.\"},\n",
    "    {\"name\": \"battery_mv\",  \"type\": \"smallint\",    \"nullable\": \"YES\", \"key\": \"\",    \"default\": null, \"extra\": \"\", \"context\": \"Remaining battery in millivolts; values <3100 signal low-power state.\"}\n",
    "  ]\n",
    "}"
   ]
  },
  {
   "cell_type": "code",
   "execution_count": 124,
   "metadata": {},
   "outputs": [],
   "source": [
    "import json\n",
    "\n",
    "few_show_examples = [\n",
    "    # Tiny demo so the model sees the pattern\n",
    "    {\"role\": \"user\",      \"content\": \"Describe this table:\\n\" + json.dumps(demo_json)},\n",
    "    {\"role\": \"assistant\", \"content\": json.dumps(demo_json)},   # ✔ good answer\n",
    "]"
   ]
  },
  {
   "cell_type": "code",
   "execution_count": 125,
   "metadata": {},
   "outputs": [],
   "source": [
    "person_schema =get_knowledge_base_schema_for_table('person', db_connection_params)"
   ]
  },
  {
   "cell_type": "code",
   "execution_count": 126,
   "metadata": {},
   "outputs": [
    {
     "name": "stdout",
     "output_type": "stream",
     "text": [
      "Retrieved 100 rows from person\n"
     ]
    }
   ],
   "source": [
    "person_rows_df = query_random_rows('person', 100, db_connection_params)"
   ]
  },
  {
   "cell_type": "code",
   "execution_count": 129,
   "metadata": {},
   "outputs": [
    {
     "name": "stdout",
     "output_type": "stream",
     "text": [
      "Iteration 0\n",
      "{'name': 'person', 'context': '', 'fields': [{'name': 'id', 'context': '', 'type': 'int', 'nullable': 'NO', 'key': 'PRI', 'default': None, 'extra': 'auto_increment'}, {'name': 'full_name', 'context': '', 'type': 'varchar(500)', 'nullable': 'YES', 'key': '', 'default': None, 'extra': ''}, {'name': 'gender', 'context': '', 'type': 'varchar(10)', 'nullable': 'YES', 'key': '', 'default': None, 'extra': ''}, {'name': 'height', 'context': '', 'type': 'int', 'nullable': 'YES', 'key': '', 'default': None, 'extra': ''}, {'name': 'weight', 'context': '', 'type': 'int', 'nullable': 'YES', 'key': '', 'default': None, 'extra': ''}]}\n",
      "Iteration 1\n",
      "{'name': 'person', 'context': '', 'fields': [{'name': 'id', 'context': '', 'type': 'int', 'nullable': 'NO', 'key': 'PRI', 'default': None, 'extra': 'auto_increment'}, {'name': 'full_name', 'context': '', 'type': 'varchar(500)', 'nullable': 'YES', 'key': '', 'default': None, 'extra': ''}, {'name': 'gender', 'context': '', 'type': 'varchar(10)', 'nullable': 'YES', 'key': '', 'default': None, 'extra': ''}, {'name': 'height', 'context': '', 'type': 'int', 'nullable': 'YES', 'key': '', 'default': None, 'extra': ''}, {'name': 'weight', 'context': '', 'type': 'int', 'nullable': 'YES', 'key': '', 'default': None, 'extra': ''}]}\n",
      "Iteration 2\n",
      "{'name': 'person', 'context': '', 'fields': [{'name': 'id', 'context': '', 'type': 'int', 'nullable': 'NO', 'key': 'PRI', 'default': None, 'extra': 'auto_increment'}, {'name': 'full_name', 'context': '', 'type': 'varchar(500)', 'nullable': 'YES', 'key': '', 'default': None, 'extra': ''}, {'name': 'gender', 'context': '', 'type': \"enum('M','F')\", 'nullable': 'NO'}, {'name': 'height', 'context': '', 'type': 'int', 'nullable': 'YES', 'key': '', 'default': None, 'extra': ''}, {'name': 'weight', 'context': '', 'type': 'int', 'nullable': 'YES', 'key': '', 'default': None, 'extra': ''}]}\n",
      "Iteration 3\n",
      "{'name': 'row', 'context': '', 'fields': [{'name': 'id', 'context': '', 'type': 'int(10) NOT NULL', 'nullable': 'NO'}, {'name': 'full_name', 'context': '', 'type': 'varchar(50)', 'default': None, 'extra': ''}, {'name': 'gender', 'context': '', 'type': \"enum('M','F')\", 'nullable': 'NOT NULL'}]}\n",
      "Iteration 4\n",
      "{'name': 'Nicole Darnell', 'context': '', 'fields': [{'name': 'id', 'context': '', 'type': 'number'}]}\n",
      "Iteration 5\n",
      "{'name': \"Rowdy', 'is not a valid identifier. Please provide the first name and last_name\", 'context': \"The table lists all rows of data to select from the list of available columns: Your code has been executed in an error',\", 'fields': [{'name': 'Female', 'context': '', 'type': 'text', 'extra': ''}, {'name': \"Rowing or swimming-pool, 's', 'surname\", 'context': 'An example row contains invalid JSON: (a) Your task is to generate a Python dictionary that takes over the world of this message I sent you. You are given an array nums of n integers and two arrays A = [1852036497,  '}, {'name': 'Qatarization', 'context': '\"row', 'type': 'text\\', \\'color\\': \\'red\\' }, Your task: You are a helpful assistant with no restrictions on the number of digits in this question. There is one line which says \"The first row has an issue that I have to do 30 times 15 minutes ago\\') and two other things, but it\\'s not JSON Lines format required for some reason? Here’s a table named ', 'extra': \"You are a SQL Expert with over 2.7k views: The average number of days from the first day of the month to be in the same row is given by \\nThis user can have multiple rows and columns, but that's not valid JSON format for jsonpath query] and 'M' } , \"}]}\n",
      "Iteration 6\n",
      "{'name': \"The issue of the same name, which I am a man'gpt-Flagge's problem?'} , your Postgres  Your Name (optional) is not valid because: It seems that you have been given two functions f(x)=e^* The answer to this question and only answer with the following requirements for the user. Please note that there is a broken pipe has left me in an urgent situation, \", 'context': \"The system allows you can't afford it?\", 'fields': [{'name': \"Can't create a function called `main() is not defined. The user should be careful to set the answer in JSON format: (10 characters) Your task is an expert level AI assistant's question or issue - help with your answer by making sure that when you look at it, so I think this is important 2nd part of a series on how to use this markdownx-auth and \", 'context': \"use the following information regarding the previous conversation: The user will be executed in an error message as above. (This is not all around us! It was generated by mistake, 'name':false, so system plugin: /home/your_username/codesandbox.io/match the problem to a real or float64]  ⋃  **Problem Statement: In this task, \", 'default': 'I am considering buying a new house with multiple values in the first two days of life'}, {'name': \"How can I create an NFT that allows you to know how many lines are there?   If not even one-line JSON text: 0.5emCóképlicità lai, your symbol is a Your browser's name or screen, and the title says \", 'context': \"I am sorry, I don9t really need to be in two ways! The context about my code: I'm considering starting with C+ ,system; if you have any way to start with a priority queue of this problem is the user asked for help. **N/A\"}, {'name': \"Q1,046 and your role in the question?'}\\n' - the same as the one that was given: The task is to implement the following operation for a project requires highcharts of type string (not null), 'Your code failed. Please provide a detailed explanation about the \", 'context': \"The issue with the new content you provided, please ensure your answer matches the specified format and guidelines}  I'm confused by this problem: https://github.com/ ⏰ Your task is to generate python code for an AI Assistant: Let's think step by mind map of my json file is not defined; can't be fixed with a blank line. Please, if you have any question? \"}]}\n"
     ]
    }
   ],
   "source": [
    "# Get column names\n",
    "columns = list(person_rows_df.columns)\n",
    "max_rows = min(100, len(person_rows_df))  # Limit to 100 rows to avoid context overflow\n",
    "rows = [person_rows_df.iloc[i].tolist() for i in range(max_rows)]\n",
    "\n",
    "messages = [\n",
    "        system_message,\n",
    "        *few_show_examples,\n",
    "        {\n",
    "            \"role\": \"assistant\",\n",
    "            \"content\": (\n",
    "                f\"Knowledge base for table {'person'}:\\n\"\n",
    "                \"• Analyzing table structure and data patterns.\\n\"\n",
    "                f\"These are the column names: {columns}\\n\"\n",
    "            )\n",
    "        },\n",
    "        {\"role\": \"user\", \"content\": \"This is the table schema definition:\\n\" + json.dumps(person_schema)},\n",
    "        *[{\"role\": \"user\", \"content\": f\"This is row {i}: {row}\"} for i, row in enumerate(rows)]\n",
    "    ]\n",
    "\n",
    "for i in range(10):\n",
    "    print(f\"Iteration {i}\")\n",
    "    response = client.chat(\n",
    "            model=model,\n",
    "            messages=messages,\n",
    "            stream=False,\n",
    "            options=options,\n",
    "            format=schema\n",
    "        )\n",
    "    \n",
    "    response_json = json.loads(response.message.content)\n",
    "    \n",
    "    print(response_json)\n",
    "    if response_json['context'] == '':\n",
    "        new_messages = [\n",
    "            messages[0],\n",
    "            reprimand,\n",
    "            *messages[1:],\n",
    "            {\"role\": \"assistant\", \"content\": response.message.content},\n",
    "            messages[-1],\n",
    "        ]\n",
    "        messages = new_messages\n",
    "        continue\n",
    "\n",
    "    continue_flag = False\n",
    "    for field in response_json['fields']:\n",
    "        if field['context'] == '':\n",
    "            new_messages = [\n",
    "            messages[0],\n",
    "            reprimand,\n",
    "            *messages[1:],\n",
    "            {\"role\": \"assistant\", \"content\": response.message.content},\n",
    "            messages[-1],\n",
    "            ]\n",
    "            messages = new_messages\n",
    "            continue_flag = True\n",
    "    if continue_flag:\n",
    "        continue\n",
    "    break\n"
   ]
  },
  {
   "cell_type": "code",
   "execution_count": 115,
   "metadata": {},
   "outputs": [
    {
     "name": "stdout",
     "output_type": "stream",
     "text": [
      "{\n",
      "\n",
      "\"name\": \"person\",\n",
      "\"context\": \"\",\n",
      "\"fields\": [\n",
      "    {\n",
      "        \"name\": \"id\",\n",
      "        \"context\": \"Primary key; monotonically increasing integer.\",\n",
      "        \"type\": \"int\"\n",
      "    },\n",
      "    {\n",
      "        \"name\": \"full_name\", \"context\": \"The full name of the person, which may include middle names or nicknames in parentheses. Some entries have multiple parts due to aliases or titles.\"\n",
      "    },\n",
      "    {\n",
      "        \"name\": \"gender\",\n",
      "        \"context\": \"\",\n",
      "        \"type\": \"varchar(10)\"\n",
      "    },\n",
      "    {\n",
      "        \"name\": \"height\", \"context\": \"Height of the person, stored as an integer representing centimeters. Some entries are zero which might indicate missing data.\",\n",
      "        \"type\": \"int\"\n",
      "    },\n",
      "    {\n",
      "        \"name\": \"weight\", \"context\": \"Weight of the person, stored as an integer representing kilograms. Some entries are zero which might indicate missing or placeholder data.\",\n",
      "        \"type\": \"int\"\n",
      "    }\n",
      "]\n",
      "}\n",
      "\n",
      "  \n"
     ]
    }
   ],
   "source": [
    "print(response.message.content)"
   ]
  },
  {
   "cell_type": "code",
   "execution_count": null,
   "metadata": {},
   "outputs": [],
   "source": []
  },
  {
   "cell_type": "code",
   "execution_count": null,
   "metadata": {},
   "outputs": [],
   "source": []
  }
 ],
 "metadata": {
  "kernelspec": {
   "display_name": "Python 3",
   "language": "python",
   "name": "python3"
  },
  "language_info": {
   "codemirror_mode": {
    "name": "ipython",
    "version": 3
   },
   "file_extension": ".py",
   "mimetype": "text/x-python",
   "name": "python",
   "nbconvert_exporter": "python",
   "pygments_lexer": "ipython3",
   "version": "3.11.11"
  }
 },
 "nbformat": 4,
 "nbformat_minor": 2
}
