{
 "cells": [
  {
   "cell_type": "markdown",
   "metadata": {},
   "source": [
    "## MySQL code"
   ]
  },
  {
   "cell_type": "code",
   "execution_count": 141,
   "metadata": {},
   "outputs": [],
   "source": [
    "from src.mysql import get_all_table_names, get_table_definition, get_knowledge_base_schema_for_table, query_random_rows\n",
    "\n",
    "db_connection_params = {\n",
    "    'host': 'localhost',\n",
    "    'port': 3306,\n",
    "    'user': 'daver',\n",
    "    'password': 'pizzatime',\n",
    "    'database': 'daver_db'\n",
    "}"
   ]
  },
  {
   "cell_type": "markdown",
   "metadata": {},
   "source": [
    "## Ollama Code"
   ]
  },
  {
   "cell_type": "code",
   "execution_count": 142,
   "metadata": {},
   "outputs": [],
   "source": [
    "from ollama import ChatResponse\n",
    "from ollama import Client\n",
    "\n",
    "\n",
    "client = Client(\n",
    "    # host='http://localhost:11434',\n",
    "    host='http://192.168.178.38:11434',\n",
    "    headers={'Content-Type': 'application/json'},\n",
    ")\n",
    "model = \"deepseek-r1:8b\"\n",
    "options = {\n",
    "    # \"temperature\": 0.2\n",
    "    }"
   ]
  },
  {
   "cell_type": "code",
   "execution_count": 143,
   "metadata": {},
   "outputs": [],
   "source": [
    "schema = {\n",
    "  \"type\": \"object\",\n",
    "  \"properties\": {\n",
    "    \"name\":    {\"type\": \"string\"},\n",
    "    \"context\": {\"type\": \"string\"},\n",
    "    \"fields\": {\n",
    "      \"type\": \"array\",\n",
    "      \"items\": {\n",
    "        \"type\":  \"object\",\n",
    "        \"properties\": {\n",
    "          \"name\":     {\"type\": \"string\"},\n",
    "          \"type\":     {\"type\": \"string\"},\n",
    "          \"nullable\": {\"type\": \"string\"},\n",
    "          \"key\":      {\"type\": \"string\"},\n",
    "          \"default\":  {\"type\": [\"string\", \"null\"]},\n",
    "          \"extra\":    {\"type\": \"string\"},\n",
    "          \"context\":  {\"type\": \"string\"}\n",
    "        },\n",
    "        \"required\": [\"name\", \"context\",]\n",
    "      }\n",
    "    }\n",
    "  },\n",
    "  \"required\": [\"name\", \"context\", \"fields\"]\n",
    "}"
   ]
  },
  {
   "cell_type": "code",
   "execution_count": 144,
   "metadata": {},
   "outputs": [],
   "source": [
    "system_message = {\n",
    "            \"role\": \"system\",\n",
    "            \"content\": (\n",
    "                \"You are a data analyst.\\n\"\n",
    "                \"Your ONLY task is to write a concise, human-readable knowledge base\"\n",
    "                \"about the table represented by the columns and rows that you are shown.\\n\"\n",
    "                \"You will be given a sample of rows from the table to extract insights from. Don't make any comment about the number of rows you were given.\\n\"\n",
    "                \"When making numerical statements, consider this to be a sample of the entire table, therefore any statements you make can only be relative to the sample.\\n\"\n",
    "                \"Your output should be readable as knowledge base by another LLM.\"\n",
    "                \"• Never output code, markdown fences, or JSON.\\n\"\n",
    "                \"• Never describe the JSON format itself — only the database facts.\\n\"\n",
    "                \"• Some columns might be in Binary Format, or other formats that are not human readable. If you can distinguish the format, describe it, otherwise ignore it.\\n\"\n",
    "                \"If you are tempted to write code, STOP.\\n\"\n",
    "                \"Return ONLY a JSON object that matches the given schema. Fill in you knowledge base about the table in the top level 'context' field.\\n\"\n",
    "                \"Fill in the 'context' field in each of the 'fields' objects with your knowledge base about the column.\\n\"\n",
    "                \"Do not leave the 'context' field empty!\"\n",
    "            )\n",
    "        },"
   ]
  },
  {
   "cell_type": "code",
   "execution_count": 145,
   "metadata": {},
   "outputs": [],
   "source": [
    "example_A_user = {\n",
    "  \"name\": \"book_inventory\",\n",
    "  \"context\": \"\",\n",
    "  \"fields\": [\n",
    "    {\"name\": \"isbn\",       \"type\": \"char(13)\",     \"nullable\": \"NO\",  \"key\": \"PRI\", \"default\": None, \"extra\": \"\",            \"context\": \"\"},\n",
    "    {\"name\": \"title\",      \"type\": \"varchar(255)\", \"nullable\": \"NO\",  \"key\": \"\",    \"default\": None, \"extra\": \"\",            \"context\": \"\"},\n",
    "    {\"name\": \"author\",     \"type\": \"varchar(255)\", \"nullable\": \"YES\", \"key\": \"\",    \"default\": None, \"extra\": \"\",            \"context\": \"\"},\n",
    "    {\"name\": \"pub_year\",   \"type\": \"year\",         \"nullable\": \"YES\", \"key\": \"\",    \"default\": None, \"extra\": \"\",            \"context\": \"\"},\n",
    "    {\"name\": \"in_stock\",   \"type\": \"int\",          \"nullable\": \"NO\",  \"key\": \"\",    \"default\": 0,    \"extra\": \"\",            \"context\": \"\"}\n",
    "  ]\n",
    "}\n",
    "example_A_assistant = {\n",
    "  \"name\": \"book_inventory\",\n",
    "  \"context\": \"One row per title kept in the warehouse. Primary key is the 13-digit ISBN; titles are unique.\",\n",
    "  \"fields\": [\n",
    "    {\"name\": \"isbn\",       \"type\": \"char(13)\",     \"nullable\": \"NO\",  \"key\": \"PRI\", \"default\": None, \"extra\": \"\", \"context\": \"Global book identifier used as the primary key.\"},\n",
    "    {\"name\": \"title\",      \"type\": \"varchar(255)\", \"nullable\": \"NO\",  \"key\": \"\",    \"default\": None, \"extra\": \"\", \"context\": \"Human-readable title; duplicates possible across editions.\"},\n",
    "    {\"name\": \"author\",     \"type\": \"varchar(255)\", \"nullable\": \"YES\", \"key\": \"\",    \"default\": None, \"extra\": \"\", \"context\": \"Main author(s); blank for works in the public domain.\"},\n",
    "    {\"name\": \"pub_year\",   \"type\": \"year\",         \"nullable\": \"YES\", \"key\": \"\",    \"default\": None, \"extra\": \"\", \"context\": \"Four-digit publication year; helps with edition matching.\"},\n",
    "    {\"name\": \"in_stock\",   \"type\": \"int\",          \"nullable\": \"NO\",  \"key\": \"\",    \"default\": 0,    \"extra\": \"\", \"context\": \"Physical copies currently available for sale.\"}\n",
    "  ]\n",
    "}\n",
    "\n",
    "example_B_user = {\n",
    "  \"name\": \"iot_sensor_data\",\n",
    "  \"context\": \"\",\n",
    "  \"fields\": [\n",
    "    {\"name\": \"sensor_id\",   \"type\": \"varchar(40)\", \"nullable\": \"NO\",  \"key\": \"PRI\", \"default\": None, \"extra\": \"\", \"context\": \"\"},\n",
    "    {\"name\": \"ts_utc\",      \"type\": \"timestamp\",   \"nullable\": \"NO\",  \"key\": \"PRI\", \"default\": None, \"extra\": \"\", \"context\": \"\"},\n",
    "    {\"name\": \"temperature\", \"type\": \"float\",       \"nullable\": \"YES\", \"key\": \"\",    \"default\": None, \"extra\": \"\", \"context\": \"\"},\n",
    "    {\"name\": \"humidity\",    \"type\": \"float\",       \"nullable\": \"YES\", \"key\": \"\",    \"default\": None, \"extra\": \"\", \"context\": \"\"},\n",
    "    {\"name\": \"battery_mv\",  \"type\": \"smallint\",    \"nullable\": \"YES\", \"key\": \"\",    \"default\": 0, \"extra\": \"\", \"context\": \"\"}\n",
    "  ]\n",
    "}\n",
    "example_B_assistant = {\n",
    "  \"name\": \"iot_sensor_data\",\n",
    "  \"context\": \"Time-series readings streamed from edge devices; composite primary key (sensor_id, ts_utc).\",\n",
    "  \"fields\": [\n",
    "    {\"name\": \"sensor_id\",   \"type\": \"varchar(40)\", \"nullable\": \"NO\",  \"key\": \"PRI\", \"default\": None, \"extra\": \"\", \"context\": \"UUID assigned to each deployed sensor.\"},\n",
    "    {\"name\": \"ts_utc\",      \"type\": \"timestamp\",   \"nullable\": \"NO\",  \"key\": \"PRI\", \"default\": None, \"extra\": \"\", \"context\": \"ISO timestamp in UTC when the packet was recorded.\"},\n",
    "    {\"name\": \"temperature\", \"type\": \"float\",       \"nullable\": \"YES\", \"key\": \"\",    \"default\": None, \"extra\": \"\", \"context\": \"Degrees Celsius; may be NULL if probe is faulty.\"},\n",
    "    {\"name\": \"humidity\",    \"type\": \"float\",       \"nullable\": \"YES\", \"key\": \"\",    \"default\": None, \"extra\": \"\", \"context\": \"Relative humidity percentage.\"},\n",
    "    {\"name\": \"battery_mv\",  \"type\": \"smallint\",    \"nullable\": \"YES\", \"key\": \"\",    \"default\": None, \"extra\": \"\", \"context\": \"Remaining battery in millivolts; values <3100 signal low-power state.\"}\n",
    "  ]\n",
    "}\n",
    "\n",
    "example_C_user = {\n",
    "  \"name\": \"employee_time_off\",\n",
    "  \"context\": \"\",\n",
    "  \"fields\": [\n",
    "    {\"name\": \"request_id\",   \"type\": \"bigint\",       \"nullable\": \"NO\",  \"key\": \"PRI\", \"default\": None,    \"extra\": \"auto_increment\", \"context\": \"\"},\n",
    "    {\"name\": \"emp_id\",       \"type\": \"int\",          \"nullable\": \"NO\",  \"key\": \"MUL\", \"default\": None,    \"extra\": \"\",              \"context\": \"\"},\n",
    "    {\"name\": \"start_date\",   \"type\": \"date\",         \"nullable\": \"NO\",  \"key\": \"\",    \"default\": None,    \"extra\": \"\",              \"context\": \"\"},\n",
    "    {\"name\": \"end_date\",     \"type\": \"date\",         \"nullable\": \"NO\",  \"key\": \"\",    \"default\": None,    \"extra\": \"\",              \"context\": \"\"},\n",
    "    {\"name\": \"reason_code\",  \"type\": \"char(3)\",      \"nullable\": \"YES\", \"key\": \"\",    \"default\": \"OTH\",   \"extra\": \"\",              \"context\": \"\"},\n",
    "    {\"name\": \"approved_by\",  \"type\": \"int\",          \"nullable\": \"YES\", \"key\": \"\",    \"default\": None,    \"extra\": \"\",              \"context\": \"\"},\n",
    "    {\"name\": \"approved_ts\",  \"type\": \"timestamp\",    \"nullable\": \"YES\", \"key\": \"\",    \"default\": None,    \"extra\": \"\",              \"context\": \"\"}\n",
    "  ]\n",
    "}\n",
    "\n",
    "example_C_assistant = {\n",
    "  \"name\": \"employee_time_off\",\n",
    "  \"context\": \"Tracks vacation / sick-leave windows. One row per request; overlaps allowed until HR approval.\",\n",
    "  \"fields\": [\n",
    "    {\"name\": \"request_id\",  \"type\": \"bigint\",    \"nullable\": \"NO\",  \"key\": \"PRI\", \"default\": None,  \"extra\": \"auto_increment\", \"context\": \"Surrogate key issued by the application.\"},\n",
    "    {\"name\": \"emp_id\",      \"type\": \"int\",       \"nullable\": \"NO\",  \"key\": \"MUL\", \"default\": None,  \"extra\": \"\",              \"context\": \"Foreign key to employees table.\"},\n",
    "    {\"name\": \"start_date\",  \"type\": \"date\",      \"nullable\": \"NO\",  \"key\": \"\",    \"default\": None,  \"extra\": \"\",              \"context\": \"First calendar day away from work, inclusive.\"},\n",
    "    {\"name\": \"end_date\",    \"type\": \"date\",      \"nullable\": \"NO\",  \"key\": \"\",    \"default\": None,  \"extra\": \"\",              \"context\": \"Last calendar day away; must be ≥ start_date.\"},\n",
    "    {\"name\": \"reason_code\", \"type\": \"char(3)\",   \"nullable\": \"YES\", \"key\": \"\",    \"default\": \"OTH\", \"extra\": \"\",              \"context\": \"Enum: VAC, SCK, MAT, OTH … default means “other”.\"},\n",
    "    {\"name\": \"approved_by\", \"type\": \"int\",       \"nullable\": \"YES\", \"key\": \"\",    \"default\": None,  \"extra\": \"\",              \"context\": \"Manager’s emp_id once the request is approved.\"},\n",
    "    {\"name\": \"approved_ts\", \"type\": \"timestamp\", \"nullable\": \"YES\", \"key\": \"\",    \"default\": None,  \"extra\": \"\",              \"context\": \"UTC timestamp when approval was logged.\"}\n",
    "  ]\n",
    "}"
   ]
  },
  {
   "cell_type": "code",
   "execution_count": 146,
   "metadata": {},
   "outputs": [],
   "source": [
    "import json\n",
    "\n",
    "few_shot_examples = [\n",
    "    # Example A\n",
    "    {\"role\": \"user\",      \"content\": json.dumps(example_A_user)},\n",
    "    {\"role\": \"assistant\", \"content\": json.dumps(example_A_assistant)},\n",
    "\n",
    "    # Example B\n",
    "    {\"role\": \"user\",      \"content\": json.dumps(example_B_user)},\n",
    "    {\"role\": \"assistant\", \"content\": json.dumps(example_B_assistant)},\n",
    "\n",
    "    # Example C\n",
    "    {\"role\": \"user\",      \"content\": json.dumps(example_C_user)},\n",
    "    {\"role\": \"assistant\", \"content\": json.dumps(example_C_assistant)},\n",
    "]"
   ]
  },
  {
   "cell_type": "code",
   "execution_count": 147,
   "metadata": {},
   "outputs": [],
   "source": [
    "person_schema = get_knowledge_base_schema_for_table('person', db_connection_params)"
   ]
  },
  {
   "cell_type": "code",
   "execution_count": 148,
   "metadata": {},
   "outputs": [
    {
     "name": "stdout",
     "output_type": "stream",
     "text": [
      "Retrieved 100 rows from person\n"
     ]
    }
   ],
   "source": [
    "person_rows_df = query_random_rows('person', 100, db_connection_params)"
   ]
  },
  {
   "cell_type": "code",
   "execution_count": null,
   "metadata": {},
   "outputs": [
    {
     "name": "stdout",
     "output_type": "stream",
     "text": [
      "{'name': 'CREATE TABLE IF NOT EXISTS employee (id INT, first_name VARCHAR(50), last_name VARCHAR(50), age INT, height_cm INT)', 'context': \"<user> has provided a list of rows with six columns each. The structure should be inferred as follows:\\n\\n- Column 1 appears to be an identifier or key.\\n- Column 2 is the full name of a person.\\n- Columns 3,4 and 5 are names and ages?\\nNo, wait let me look again: \\n\\nEach row has six elements. Let's assume columns based on common database schema:\\n\\nGiven that there are two tables involved (employee and employee_details), the first table is likely 'employees' with id, name, age, height, and possibly other fields.\\nHowever, looking at the data, it seems like each row represents an employee record. The second column has full names. This looks like a list of employees from fictional databases or examples.\", 'fields': [{'name': 'ID', 'context': 'This is likely to be a unique identifier for the employee.', 'type': 'INT'}, {'name': 'Name', 'context': 'Full name of the employee', 'type': 'VARCHAR(50)'}, {'name': 'Age', 'context': \"The third element in each row seems to represent age or years worked. But it's not always provided, sometimes 0.\", 'type': 'INT'}, {'name': 'Height (cm)', 'context': 'This column appears to be the height of employees in cm.', 'type': 'INT'}]}\n"
     ]
    }
   ],
   "source": [
    "# Get column names\n",
    "columns = list(person_rows_df.columns)\n",
    "max_rows = min(100, len(person_rows_df))  # Limit to 100 rows to avoid context overflow\n",
    "rows = [person_rows_df.iloc[i].tolist() for i in range(max_rows)]\n",
    "\n",
    "messages = [\n",
    "        system_message,\n",
    "        *few_shot_examples,\n",
    "        {\"role\": \"user\", \"content\": \"This is the table schema definition:\\n\" + json.dumps(person_schema)},\n",
    "        *[{\"role\": \"user\", \"content\": f\"This is row {i}: {row}\"} for i, row in enumerate(rows)]\n",
    "    ]\n",
    "\n",
    "while True:\n",
    "    response = client.chat(\n",
    "        model=model,\n",
    "        messages=messages,\n",
    "        stream=False,\n",
    "        options=options,\n",
    "        format=schema\n",
    "    )\n",
    "        \n",
    "    response_json = json.loads(response.message.content)\n",
    "    context_missing = False\n",
    "    if response_json['context'] == '':\n",
    "        context_missing = True\n",
    "    for field in response_json['fields']:\n",
    "        if field['context'] == '':\n",
    "            context_missing = True\n",
    "            break\n",
    "    if not context_missing:\n",
    "        break\n",
    "    print(\"Response is missing context\")\n",
    "    print(response_json)\n",
    "\n",
    "print(response_json)\n"
   ]
  },
  {
   "cell_type": "code",
   "execution_count": null,
   "metadata": {},
   "outputs": [],
   "source": []
  },
  {
   "cell_type": "code",
   "execution_count": null,
   "metadata": {},
   "outputs": [],
   "source": []
  }
 ],
 "metadata": {
  "kernelspec": {
   "display_name": "Python 3",
   "language": "python",
   "name": "python3"
  },
  "language_info": {
   "codemirror_mode": {
    "name": "ipython",
    "version": 3
   },
   "file_extension": ".py",
   "mimetype": "text/x-python",
   "name": "python",
   "nbconvert_exporter": "python",
   "pygments_lexer": "ipython3",
   "version": "3.11.11"
  }
 },
 "nbformat": 4,
 "nbformat_minor": 2
}
